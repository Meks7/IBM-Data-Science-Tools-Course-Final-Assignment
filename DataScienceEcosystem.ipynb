{
 "cells": [
  {
   "cell_type": "markdown",
   "id": "3a3e94d7-2b4f-4455-9927-ada082bff7a8",
   "metadata": {},
   "source": [
    "# Data Science Tools and Ecosystem"
   ]
  },
  {
   "cell_type": "markdown",
   "id": "0b5dd043-f940-4476-8b12-4f0344642697",
   "metadata": {},
   "source": [
    "### In this notebook, Data Science Tools and Ecosystem are summarized."
   ]
  },
  {
   "cell_type": "markdown",
   "id": "4b51e28f-26a6-4b1e-b94a-7377285ba1c5",
   "metadata": {},
   "source": [
    "#### Objectives:\n",
    "+ List popular languages for Data Science\n",
    "+ List popular development environment tools for Data Science\n",
    "+ Demonstrate simple arithmetic expression"
   ]
  },
  {
   "cell_type": "markdown",
   "id": "bf2d3893-ce27-49be-a622-d3da65a8b2d0",
   "metadata": {},
   "source": [
    "#### Some of the popular languages that Data Scientists use are:\n",
    "\n",
    "1. Python\n",
    "2. SQL\n",
    "3. R"
   ]
  },
  {
   "cell_type": "markdown",
   "id": "c58b2829-8129-4d8f-85d7-34ca75660947",
   "metadata": {},
   "source": [
    "#### Some of the commonly used libraries used by Data Scientists include:\n",
    "\n",
    "1. Pandas\n",
    "2. Matplotlib\n",
    "3. NumPy"
   ]
  },
  {
   "cell_type": "markdown",
   "id": "5355202e-0196-4b73-a567-af3e7c2b4d4b",
   "metadata": {},
   "source": [
    "| Data Science Tools |\n",
    " -------------------\n",
    "| Jupyter Notebook|\n",
    "| RStudio |\n",
    "| VS Code |"
   ]
  },
  {
   "cell_type": "markdown",
   "id": "dbcf321c-bb01-411f-9a44-3c37b604a242",
   "metadata": {},
   "source": [
    "### Below are a few examples of evaluating arithmetic expressions in Python"
   ]
  },
  {
   "cell_type": "code",
   "execution_count": 4,
   "id": "61ee002d-cda9-49fc-9e80-dc12af41fc4c",
   "metadata": {},
   "outputs": [
    {
     "data": {
      "text/plain": [
       "17"
      ]
     },
     "execution_count": 4,
     "metadata": {},
     "output_type": "execute_result"
    }
   ],
   "source": [
    "# This is a simple arithmetic expression to mutiply then add integers\n",
    "(3*4)+5"
   ]
  },
  {
   "cell_type": "code",
   "execution_count": 3,
   "id": "473a78ec-cc73-4af9-ae82-0bf105a4e007",
   "metadata": {},
   "outputs": [
    {
     "data": {
      "text/plain": [
       "3.3333333333333335"
      ]
     },
     "execution_count": 3,
     "metadata": {},
     "output_type": "execute_result"
    }
   ],
   "source": [
    "# This will convert 200 minutes to hours by diving by 60\n",
    "200/60"
   ]
  },
  {
   "cell_type": "markdown",
   "id": "28e9f691-e8fa-4b03-bee4-d99fea548f2d",
   "metadata": {},
   "source": [
    "## Author\n",
    "Max Dore"
   ]
  },
  {
   "cell_type": "code",
   "execution_count": null,
   "id": "d80591a6-6509-4b95-bc4b-1ba56115d37c",
   "metadata": {},
   "outputs": [],
   "source": []
  }
 ],
 "metadata": {
  "kernelspec": {
   "display_name": "Python 3 (ipykernel)",
   "language": "python",
   "name": "python3"
  },
  "language_info": {
   "codemirror_mode": {
    "name": "ipython",
    "version": 3
   },
   "file_extension": ".py",
   "mimetype": "text/x-python",
   "name": "python",
   "nbconvert_exporter": "python",
   "pygments_lexer": "ipython3",
   "version": "3.11.9"
  }
 },
 "nbformat": 4,
 "nbformat_minor": 5
}
